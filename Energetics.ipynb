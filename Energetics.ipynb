{
 "cells": [
  {
   "cell_type": "markdown",
   "metadata": {},
   "source": [
    "### Energetics\n",
    "\n",
    "The energetics of the system should be conserved over time\n",
    "\n",
    "$$ E = \\int \\left( \\frac{\\phi |\\textbf{u}|^2}{2} + \\frac{\\phi^2}{2} \\right) \\text{d}A $$\n",
    "\n",
    "For conservation, $ \\frac{dE}{dt} = 0 $."
   ]
  },
  {
   "cell_type": "code",
   "execution_count": 2,
   "metadata": {
    "collapsed": true
   },
   "outputs": [],
   "source": [
    "%matplotlib inline\n",
    "import numpy as np\n",
    "import matplotlib.pyplot as plt\n",
    "from scipy.io import netcdf\n",
    "\n",
    "from endgame_analysis import get_var, get_meta\n",
    "import endgame_analysis  as eg\n",
    "\n",
    "## useful constants\n",
    "oneday = 86400.00\n",
    "rearth = 6371220.00\n",
    "twoomega = 1.4584e-4\n",
    "gravity = 9.80616"
   ]
  },
  {
   "cell_type": "code",
   "execution_count": 29,
   "metadata": {
    "collapsed": false
   },
   "outputs": [
    {
     "data": {
      "text/plain": [
       "u'/home/links/jp492/.cache/matplotlib'"
      ]
     },
     "execution_count": 29,
     "metadata": {},
     "output_type": "execute_result"
    }
   ],
   "source": [
    "import matplotlib\n",
    "\n",
    "fna = 12   # adjust this if needs be\n",
    "myfonta = 'Myriad Pro'\n",
    "# myfonta = ‘Calibri’     uncomment this if you don’t have Myriad Pro\n",
    "fonta = {'family' : myfonta,  \n",
    "         'weight' : 'normal',\n",
    "         'style'  : 'normal',\n",
    "         'size'   : fna}\n",
    "matplotlib.rc('font', **fonta)\n",
    "\n",
    "## some useful functions\n",
    "import os\n",
    "\n",
    "def best_fit(xs, ys):\n",
    "    \"\"\"Using the method of least squares, return the gradient\n",
    "    and y-intercept of the line of best fit through xs and ys.\"\"\"\n",
    "    A = np.array([xs, np.ones(len(xs))])\n",
    "    return np.linalg.lstsq(A.T,ys)[0]\n",
    "\n",
    "RESAVE_ALL_IMAGES = False\n",
    "def save_chart(filename, overwrite=False):\n",
    "    name = filename.split('.')\n",
    "    if len(name) >= 2:\n",
    "        ext = name[-1]\n",
    "    else:\n",
    "        ext = 'pdf'\n",
    "        filename = filename+'.pdf'\n",
    "    if (os.path.isfile('../images/'+filename) and overwrite is False) or (RESAVE_ALL_IMAGES is True):\n",
    "        print('save_chart: not overwriting existing file') \n",
    "        return\n",
    "    plt.tight_layout()\n",
    "    plt.savefig('../images/'+filename, dpi=300, format=ext)\n",
    "    print('save_chart: image saved to images/'+filename)\n",
    "matplotlib.get_cachedir()"
   ]
  },
  {
   "cell_type": "code",
   "execution_count": 3,
   "metadata": {
    "collapsed": false
   },
   "outputs": [],
   "source": [
    "cur_file = 'data/run_data_20150707_114748.nc'  # gaussian sink profile\n",
    "no_forcing_file = 'data/run_data_20150728_140709.nc'\n",
    "cur_file = no_forcing_file\n",
    "phi_dims, phi = get_var('phi', cur_file)\n",
    "u_dims, u = get_var('u', cur_file)\n",
    "v_dims, v = get_var('v', cur_file) \n",
    "\n",
    "times, lons, lats = phi_dims\n",
    "dx = 2*np.pi / len(lons)\n",
    "dy = np.pi / len(lats)"
   ]
  },
  {
   "cell_type": "markdown",
   "metadata": {},
   "source": [
    "* $u$ is defined on the centre of vertical edges.\n",
    "* $v$ is defined on the centre of horizontal edges.\n",
    "* $\\phi$ is defined at cell centres.\n",
    "\n",
    "Shift all values to cell centres:\n",
    "\n",
    "$$ \n",
    "\\begin{align}\n",
    "    \\bar u_{i,j} = \\frac{u_{i-\\frac12, j} + u_{i+\\frac12, j}}{2}\\\\\n",
    "    \\bar v_{i,j} = \\frac{v_{i,j-\\frac12} + v_{i,j+\\frac12}}{2} \n",
    "\\end{align}\n",
    "$$\n"
   ]
  },
  {
   "cell_type": "code",
   "execution_count": 4,
   "metadata": {
    "collapsed": false
   },
   "outputs": [],
   "source": [
    "u_bar = (u + np.roll(u, 1, axis=1)) / 2.0      # roll around the longitudes\n",
    "v_bar = v_bar = (v[:,:,1:] + v[:,:,:-1])/2.0   # contract the extra point in the lons\n",
    "\n",
    "u_mod2 = u_bar**2 + v_bar**2\n",
    "phi2 = phi**2\n"
   ]
  },
  {
   "cell_type": "code",
   "execution_count": 5,
   "metadata": {
    "collapsed": false
   },
   "outputs": [
    {
     "data": {
      "text/plain": [
       "(2401, 320, 160)"
      ]
     },
     "execution_count": 5,
     "metadata": {},
     "output_type": "execute_result"
    }
   ],
   "source": [
    "e = phi*u_mod2/2.0 + phi2/2\n",
    "e.shape"
   ]
  },
  {
   "cell_type": "code",
   "execution_count": 6,
   "metadata": {
    "collapsed": false
   },
   "outputs": [],
   "source": [
    "dA = np.cos(lats)*dx*dy"
   ]
  },
  {
   "cell_type": "code",
   "execution_count": 7,
   "metadata": {
    "collapsed": false
   },
   "outputs": [
    {
     "data": {
      "text/plain": [
       "(2401,)"
      ]
     },
     "execution_count": 7,
     "metadata": {},
     "output_type": "execute_result"
    }
   ],
   "source": [
    "# sum over the entire domain at each timestep\n",
    "# area dA of each cell is proportional to cos(lat)\n",
    "E = (e*dA[np.newaxis,np.newaxis,:]).sum((1,2))\n",
    "E.shape"
   ]
  },
  {
   "cell_type": "code",
   "execution_count": 19,
   "metadata": {
    "collapsed": false
   },
   "outputs": [
    {
     "data": {
      "text/plain": [
       "(64650, 64660)"
      ]
     },
     "execution_count": 19,
     "metadata": {},
     "output_type": "execute_result"
    },
    {
     "data": {
      "image/png": "[encoded data removed]",
      "text/plain": [
       "<matplotlib.figure.Figure at 0x7f4152a0e210>"
      ]
     },
     "metadata": {},
     "output_type": "display_data"
    }
   ],
   "source": [
    "plt.plot(times/86400, E)\n",
    "plt.xlabel('time (days)')\n",
    "plt.ylim((64650, 64660))"
   ]
  },
  {
   "cell_type": "markdown",
   "metadata": {},
   "source": [
    "Consider the size of the terms in the energetics function, $\\phi^2$ is much much larger than $u$, dominant term."
   ]
  },
  {
   "cell_type": "code",
   "execution_count": 42,
   "metadata": {
    "collapsed": false
   },
   "outputs": [
    {
     "data": {
      "text/plain": [
       "10895.81"
      ]
     },
     "execution_count": 42,
     "metadata": {},
     "output_type": "execute_result"
    }
   ],
   "source": [
    "np.max(phi2) / np.max(phi*u_mod2)"
   ]
  },
  {
   "cell_type": "markdown",
   "metadata": {},
   "source": [
    "Try instead the *available energy*, that is the deviation in geopotential surface from the mean\n",
    "\n",
    "$$ \\frac{\\phi^2}{2} \\to \\frac{(\\phi - \\bar \\phi)^2}{2} $$\n"
   ]
  },
  {
   "cell_type": "code",
   "execution_count": 16,
   "metadata": {
    "collapsed": true
   },
   "outputs": [],
   "source": [
    "phi_bar = phi.mean((1,2))  # temporal mean\n",
    "avail_phi = phi - phi_bar[:, np.newaxis, np.newaxis]"
   ]
  },
  {
   "cell_type": "code",
   "execution_count": 36,
   "metadata": {
    "collapsed": false
   },
   "outputs": [
    {
     "name": "stdout",
     "output_type": "stream",
     "text": [
      "save_chart: not overwriting existing file\n"
     ]
    },
    {
     "data": {
      "image/png": "[encoded data removed]",
      "text/plain": [
       "<matplotlib.figure.Figure at 0x7f4152ceec50>"
      ]
     },
     "metadata": {},
     "output_type": "display_data"
    }
   ],
   "source": [
    "plt.figure(figsize=(6,4))\n",
    "e_avail = (avail_phi*u_mod2 + avail_phi**2)/2\n",
    "E_avail = (e_avail*dA[np.newaxis,np.newaxis,:]).sum((1,2))\n",
    "plt.plot(times/oneday,E_avail/E_avail[1])\n",
    "plt.xlabel('time (days)')\n",
    "plt.ylabel('available energy / initial energy')\n",
    "plt.ylim((0,1))\n",
    "save_chart('energetics')"
   ]
  },
  {
   "cell_type": "markdown",
   "metadata": {},
   "source": [
    "The chart shows that the total energy in the system approaches a steady state as time progresses.\n",
    "This chart looks very similar to the total mass of the system, due to the dominance of the $\\phi^2$ term.\n",
    "\n",
    "Comparison of terms still suggests that available energy is the dominant term, but orders of magnitude less so:"
   ]
  },
  {
   "cell_type": "code",
   "execution_count": 47,
   "metadata": {
    "collapsed": false
   },
   "outputs": [
    {
     "data": {
      "text/plain": [
       "253.70525"
      ]
     },
     "execution_count": 47,
     "metadata": {},
     "output_type": "execute_result"
    }
   ],
   "source": [
    "np.max(avail_phi**2) / np.max(avail_phi*u_mod2)"
   ]
  },
  {
   "cell_type": "code",
   "execution_count": 79,
   "metadata": {
    "collapsed": false
   },
   "outputs": [
    {
     "data": {
      "text/plain": [
       "<matplotlib.text.Text at 0x7faf2230fe90>"
      ]
     },
     "execution_count": 79,
     "metadata": {},
     "output_type": "execute_result"
    },
    {
     "data": {
      "image/png": "[encoded data removed]",
      "text/plain": [
       "<matplotlib.figure.Figure at 0x7faf223b9090>"
      ]
     },
     "metadata": {},
     "output_type": "display_data"
    }
   ],
   "source": [
    "mass = (dA[np.newaxis,np.newaxis]*phi).sum((1,2))\n",
    "plt.plot(times/oneday, mass)\n",
    "plt.xlabel('time (days)')\n",
    "plt.ylabel('mass')"
   ]
  },
  {
   "cell_type": "code",
   "execution_count": null,
   "metadata": {
    "collapsed": true
   },
   "outputs": [],
   "source": []
  }
 ],
 "metadata": {
  "kernelspec": {
   "display_name": "Python 2",
   "language": "python",
   "name": "python2"
  },
  "language_info": {
   "codemirror_mode": {
    "name": "ipython",
    "version": 2
   },
   "file_extension": ".py",
   "mimetype": "text/x-python",
   "name": "python",
   "nbconvert_exporter": "python",
   "pygments_lexer": "ipython2",
   "version": "2.7.10"
  }
 },
 "nbformat": 4,
 "nbformat_minor": 0
}
